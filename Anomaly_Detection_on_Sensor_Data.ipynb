{
 "cells": [
  {
   "cell_type": "markdown",
   "metadata": {},
   "source": [
    "## Install Necessary Packages"
   ]
  },
  {
   "cell_type": "code",
   "execution_count": 1,
   "metadata": {},
   "outputs": [
    {
     "name": "stderr",
     "output_type": "stream",
     "text": [
      "C:\\ProgramData\\Anaconda3\\envs\\AnomalyDetection\\lib\\site-packages\\h5py\\__init__.py:36: FutureWarning: Conversion of the second argument of issubdtype from `float` to `np.floating` is deprecated. In future, it will be treated as `np.float64 == np.dtype(float).type`.\n",
      "  from ._conv import register_converters as _register_converters\n"
     ]
    },
    {
     "name": "stdout",
     "output_type": "stream",
     "text": [
      "2.0.0\n"
     ]
    }
   ],
   "source": [
    "# check tensorflow install\n",
    "import tensorflow as tf\n",
    "print(tf.__version__)"
   ]
  },
  {
   "cell_type": "code",
   "execution_count": 2,
   "metadata": {
    "colab": {
     "base_uri": "https://localhost:8080/",
     "height": 80
    },
    "colab_type": "code",
    "id": "p14Zc30VkFre",
    "outputId": "fd5074fa-1ae3-4514-d797-c0e7895eaebf"
   },
   "outputs": [],
   "source": [
    "# install necessary packages\n",
    "import os\n",
    "import numpy as np\n",
    "import pandas as pd\n",
    "from sklearn.preprocessing import MinMaxScaler\n",
    "import joblib\n",
    "import seaborn as sns\n",
    "sns.set(color_codes=True)\n",
    "import matplotlib.pyplot as plt\n",
    "%matplotlib inline\n",
    "\n",
    "from numpy.random import seed\n",
    "\n",
    "from tensorflow.keras.layers import Input, Dense, Dropout, LSTM, TimeDistributed, RepeatVector\n",
    "from tensorflow.keras.models import Model\n",
    "from tensorflow.keras import regularizers"
   ]
  },
  {
   "cell_type": "code",
   "execution_count": 3,
   "metadata": {
    "colab": {},
    "colab_type": "code",
    "id": "KZrGz7qdkIXm"
   },
   "outputs": [],
   "source": [
    "# set random seed\n",
    "seed(10)\n",
    "tf.random.set_seed(10)"
   ]
  },
  {
   "cell_type": "markdown",
   "metadata": {},
   "source": [
    "## Load datasets"
   ]
  },
  {
   "cell_type": "code",
   "execution_count": 4,
   "metadata": {
    "colab": {},
    "colab_type": "code",
    "id": "yiGOYYWCkLmw"
   },
   "outputs": [],
   "source": [
    "df_train = pd.read_csv('data.csv')\n",
    "df_test = pd.read_csv('sample_20200212.csv')"
   ]
  },
  {
   "cell_type": "code",
   "execution_count": 5,
   "metadata": {
    "colab": {
     "base_uri": "https://localhost:8080/",
     "height": 276
    },
    "colab_type": "code",
    "id": "9OOPHQ93Hbke",
    "outputId": "4468f646-e034-4794-8cb3-25b1289c534c"
   },
   "outputs": [
    {
     "name": "stdout",
     "output_type": "stream",
     "text": [
      "<class 'pandas.core.frame.DataFrame'>\n",
      "RangeIndex: 28898 entries, 0 to 28897\n",
      "Data columns (total 10 columns):\n",
      " #   Column                        Non-Null Count  Dtype  \n",
      "---  ------                        --------------  -----  \n",
      " 0   Timestamp                     28898 non-null  int64  \n",
      " 1   jobName                       28898 non-null  object \n",
      " 2   values_PostStage              28898 non-null  float64\n",
      " 3   values_MidStage               28898 non-null  float64\n",
      " 4   values_ConveyorBeltTimestamp  28898 non-null  object \n",
      " 5   sourceName                    28898 non-null  object \n",
      " 6   _timestamp                    28898 non-null  object \n",
      " 7   _version                      28898 non-null  int64  \n",
      " 8   values_PreStage               28898 non-null  float64\n",
      " 9   Timestamp_HR                  28898 non-null  object \n",
      "dtypes: float64(3), int64(2), object(5)\n",
      "memory usage: 2.2+ MB\n"
     ]
    }
   ],
   "source": [
    "df_train.info()"
   ]
  },
  {
   "cell_type": "code",
   "execution_count": 6,
   "metadata": {
    "colab": {
     "base_uri": "https://localhost:8080/",
     "height": 207
    },
    "colab_type": "code",
    "id": "FupDGc1ck2xH",
    "outputId": "c0e56fad-a3ef-41ba-9719-1a5c7ec6f509"
   },
   "outputs": [
    {
     "data": {
      "text/plain": [
       "Timestamp                        2702\n",
       "jobName                             1\n",
       "values_PostStage                20158\n",
       "values_MidStage                 20158\n",
       "values_ConveyorBeltTimestamp        1\n",
       "sourceName                          2\n",
       "_timestamp                          1\n",
       "_version                            1\n",
       "values_PreStage                 20158\n",
       "Timestamp_HR                     2702\n",
       "dtype: int64"
      ]
     },
     "execution_count": 6,
     "metadata": {},
     "output_type": "execute_result"
    }
   ],
   "source": [
    "df_train.nunique()"
   ]
  },
  {
   "cell_type": "code",
   "execution_count": 7,
   "metadata": {
    "colab": {
     "base_uri": "https://localhost:8080/",
     "height": 207
    },
    "colab_type": "code",
    "id": "SCZw91v9HyHD",
    "outputId": "3cf89d89-8b1d-4346-b805-a31c3a16a0a9"
   },
   "outputs": [
    {
     "name": "stdout",
     "output_type": "stream",
     "text": [
      "<class 'pandas.core.frame.DataFrame'>\n",
      "RangeIndex: 149568 entries, 0 to 149567\n",
      "Data columns (total 6 columns):\n",
      " #   Column            Non-Null Count   Dtype  \n",
      "---  ------            --------------   -----  \n",
      " 0   Timestamp         149568 non-null  int64  \n",
      " 1   values_PostStage  149568 non-null  float64\n",
      " 2   values_MidStage   149568 non-null  float64\n",
      " 3   sourceName        149568 non-null  object \n",
      " 4   values_PreStage   149568 non-null  float64\n",
      " 5   Timestamp_HR      149568 non-null  object \n",
      "dtypes: float64(3), int64(1), object(2)\n",
      "memory usage: 6.8+ MB\n"
     ]
    }
   ],
   "source": [
    "df_test.info()"
   ]
  },
  {
   "cell_type": "code",
   "execution_count": 8,
   "metadata": {
    "colab": {
     "base_uri": "https://localhost:8080/",
     "height": 138
    },
    "colab_type": "code",
    "id": "4T5SnawwHyVA",
    "outputId": "4a06dfd4-f8a9-4b37-8f7a-1f408bf6b77f"
   },
   "outputs": [
    {
     "data": {
      "text/plain": [
       "Timestamp            14941\n",
       "values_PostStage    102954\n",
       "values_MidStage     102942\n",
       "sourceName               2\n",
       "values_PreStage     102948\n",
       "Timestamp_HR         14941\n",
       "dtype: int64"
      ]
     },
     "execution_count": 8,
     "metadata": {},
     "output_type": "execute_result"
    }
   ],
   "source": [
    "df_test.nunique()"
   ]
  },
  {
   "cell_type": "code",
   "execution_count": 9,
   "metadata": {
    "colab": {
     "base_uri": "https://localhost:8080/",
     "height": 198
    },
    "colab_type": "code",
    "id": "k3M_xT8tIEQe",
    "outputId": "d61322d1-e3f5-4f02-c7e9-b6c01f6e9c30"
   },
   "outputs": [
    {
     "data": {
      "text/html": [
       "<div>\n",
       "<style scoped>\n",
       "    .dataframe tbody tr th:only-of-type {\n",
       "        vertical-align: middle;\n",
       "    }\n",
       "\n",
       "    .dataframe tbody tr th {\n",
       "        vertical-align: top;\n",
       "    }\n",
       "\n",
       "    .dataframe thead th {\n",
       "        text-align: right;\n",
       "    }\n",
       "</style>\n",
       "<table border=\"1\" class=\"dataframe\">\n",
       "  <thead>\n",
       "    <tr style=\"text-align: right;\">\n",
       "      <th></th>\n",
       "      <th>Timestamp</th>\n",
       "      <th>values_PostStage</th>\n",
       "      <th>values_MidStage</th>\n",
       "      <th>sourceName</th>\n",
       "      <th>values_PreStage</th>\n",
       "      <th>Timestamp_HR</th>\n",
       "    </tr>\n",
       "  </thead>\n",
       "  <tbody>\n",
       "    <tr>\n",
       "      <th>0</th>\n",
       "      <td>1581498216</td>\n",
       "      <td>89.642216</td>\n",
       "      <td>66.550189</td>\n",
       "      <td>sensors1</td>\n",
       "      <td>23.833349</td>\n",
       "      <td>9:03:36</td>\n",
       "    </tr>\n",
       "    <tr>\n",
       "      <th>1</th>\n",
       "      <td>1581498216</td>\n",
       "      <td>89.642216</td>\n",
       "      <td>66.550189</td>\n",
       "      <td>sensors2</td>\n",
       "      <td>23.833349</td>\n",
       "      <td>9:03:36</td>\n",
       "    </tr>\n",
       "    <tr>\n",
       "      <th>2</th>\n",
       "      <td>1581498216</td>\n",
       "      <td>92.055269</td>\n",
       "      <td>64.740733</td>\n",
       "      <td>sensors1</td>\n",
       "      <td>26.217064</td>\n",
       "      <td>9:03:36</td>\n",
       "    </tr>\n",
       "    <tr>\n",
       "      <th>3</th>\n",
       "      <td>1581498216</td>\n",
       "      <td>92.055269</td>\n",
       "      <td>64.740733</td>\n",
       "      <td>sensors2</td>\n",
       "      <td>26.217064</td>\n",
       "      <td>9:03:36</td>\n",
       "    </tr>\n",
       "    <tr>\n",
       "      <th>4</th>\n",
       "      <td>1581498216</td>\n",
       "      <td>89.879600</td>\n",
       "      <td>63.936600</td>\n",
       "      <td>sensors1</td>\n",
       "      <td>23.439999</td>\n",
       "      <td>9:03:36</td>\n",
       "    </tr>\n",
       "  </tbody>\n",
       "</table>\n",
       "</div>"
      ],
      "text/plain": [
       "    Timestamp  values_PostStage  values_MidStage sourceName  values_PreStage  \\\n",
       "0  1581498216         89.642216        66.550189   sensors1        23.833349   \n",
       "1  1581498216         89.642216        66.550189   sensors2        23.833349   \n",
       "2  1581498216         92.055269        64.740733   sensors1        26.217064   \n",
       "3  1581498216         92.055269        64.740733   sensors2        26.217064   \n",
       "4  1581498216         89.879600        63.936600   sensors1        23.439999   \n",
       "\n",
       "  Timestamp_HR  \n",
       "0      9:03:36  \n",
       "1      9:03:36  \n",
       "2      9:03:36  \n",
       "3      9:03:36  \n",
       "4      9:03:36  "
      ]
     },
     "execution_count": 9,
     "metadata": {},
     "output_type": "execute_result"
    }
   ],
   "source": [
    "df_test.head()"
   ]
  },
  {
   "cell_type": "markdown",
   "metadata": {},
   "source": [
    "## Data Preparation"
   ]
  },
  {
   "cell_type": "code",
   "execution_count": 10,
   "metadata": {
    "colab": {},
    "colab_type": "code",
    "id": "UrFGyrC5k6nJ"
   },
   "outputs": [],
   "source": [
    "df_train.drop(labels=['Timestamp', 'jobName', 'values_ConveyorBeltTimestamp', '_timestamp', '_version'], axis=1, inplace=True)\n",
    "df_test.drop(labels=['Timestamp'], axis=1, inplace=True)"
   ]
  },
  {
   "cell_type": "code",
   "execution_count": 11,
   "metadata": {
    "colab": {
     "base_uri": "https://localhost:8080/",
     "height": 198
    },
    "colab_type": "code",
    "id": "-YPEDLr5l3Do",
    "outputId": "cac394cd-b039-41fd-9372-2d191edf3d4b"
   },
   "outputs": [
    {
     "data": {
      "text/html": [
       "<div>\n",
       "<style scoped>\n",
       "    .dataframe tbody tr th:only-of-type {\n",
       "        vertical-align: middle;\n",
       "    }\n",
       "\n",
       "    .dataframe tbody tr th {\n",
       "        vertical-align: top;\n",
       "    }\n",
       "\n",
       "    .dataframe thead th {\n",
       "        text-align: right;\n",
       "    }\n",
       "</style>\n",
       "<table border=\"1\" class=\"dataframe\">\n",
       "  <thead>\n",
       "    <tr style=\"text-align: right;\">\n",
       "      <th></th>\n",
       "      <th>values_PostStage</th>\n",
       "      <th>values_MidStage</th>\n",
       "      <th>sourceName</th>\n",
       "      <th>values_PreStage</th>\n",
       "      <th>Timestamp_HR</th>\n",
       "    </tr>\n",
       "  </thead>\n",
       "  <tbody>\n",
       "    <tr>\n",
       "      <th>0</th>\n",
       "      <td>92.595291</td>\n",
       "      <td>64.930687</td>\n",
       "      <td>sensors1</td>\n",
       "      <td>27.138446</td>\n",
       "      <td>2/7/2020 9:09:09</td>\n",
       "    </tr>\n",
       "    <tr>\n",
       "      <th>1</th>\n",
       "      <td>90.499815</td>\n",
       "      <td>64.402893</td>\n",
       "      <td>sensors2</td>\n",
       "      <td>25.619771</td>\n",
       "      <td>2/7/2020 9:09:09</td>\n",
       "    </tr>\n",
       "    <tr>\n",
       "      <th>2</th>\n",
       "      <td>89.024493</td>\n",
       "      <td>65.099289</td>\n",
       "      <td>sensors1</td>\n",
       "      <td>24.361520</td>\n",
       "      <td>2/7/2020 9:09:09</td>\n",
       "    </tr>\n",
       "    <tr>\n",
       "      <th>3</th>\n",
       "      <td>88.263517</td>\n",
       "      <td>64.992419</td>\n",
       "      <td>sensors2</td>\n",
       "      <td>25.840487</td>\n",
       "      <td>2/7/2020 9:09:09</td>\n",
       "    </tr>\n",
       "    <tr>\n",
       "      <th>4</th>\n",
       "      <td>88.099106</td>\n",
       "      <td>65.409816</td>\n",
       "      <td>sensors1</td>\n",
       "      <td>26.172290</td>\n",
       "      <td>2/7/2020 9:09:09</td>\n",
       "    </tr>\n",
       "  </tbody>\n",
       "</table>\n",
       "</div>"
      ],
      "text/plain": [
       "   values_PostStage  values_MidStage sourceName  values_PreStage  \\\n",
       "0         92.595291        64.930687   sensors1        27.138446   \n",
       "1         90.499815        64.402893   sensors2        25.619771   \n",
       "2         89.024493        65.099289   sensors1        24.361520   \n",
       "3         88.263517        64.992419   sensors2        25.840487   \n",
       "4         88.099106        65.409816   sensors1        26.172290   \n",
       "\n",
       "       Timestamp_HR  \n",
       "0  2/7/2020 9:09:09  \n",
       "1  2/7/2020 9:09:09  \n",
       "2  2/7/2020 9:09:09  \n",
       "3  2/7/2020 9:09:09  \n",
       "4  2/7/2020 9:09:09  "
      ]
     },
     "execution_count": 11,
     "metadata": {},
     "output_type": "execute_result"
    }
   ],
   "source": [
    "df_train.head()"
   ]
  },
  {
   "cell_type": "code",
   "execution_count": 12,
   "metadata": {
    "colab": {
     "base_uri": "https://localhost:8080/",
     "height": 198
    },
    "colab_type": "code",
    "id": "MGX1AMQUnuAr",
    "outputId": "b1419050-a1a5-4db6-a99a-c15f6411cf7e"
   },
   "outputs": [
    {
     "data": {
      "text/html": [
       "<div>\n",
       "<style scoped>\n",
       "    .dataframe tbody tr th:only-of-type {\n",
       "        vertical-align: middle;\n",
       "    }\n",
       "\n",
       "    .dataframe tbody tr th {\n",
       "        vertical-align: top;\n",
       "    }\n",
       "\n",
       "    .dataframe thead th {\n",
       "        text-align: right;\n",
       "    }\n",
       "</style>\n",
       "<table border=\"1\" class=\"dataframe\">\n",
       "  <thead>\n",
       "    <tr style=\"text-align: right;\">\n",
       "      <th></th>\n",
       "      <th>values_PostStage</th>\n",
       "      <th>values_MidStage</th>\n",
       "      <th>sourceName</th>\n",
       "      <th>values_PreStage</th>\n",
       "      <th>Timestamp_HR</th>\n",
       "    </tr>\n",
       "  </thead>\n",
       "  <tbody>\n",
       "    <tr>\n",
       "      <th>0</th>\n",
       "      <td>89.642216</td>\n",
       "      <td>66.550189</td>\n",
       "      <td>sensors1</td>\n",
       "      <td>23.833349</td>\n",
       "      <td>9:03:36</td>\n",
       "    </tr>\n",
       "    <tr>\n",
       "      <th>1</th>\n",
       "      <td>89.642216</td>\n",
       "      <td>66.550189</td>\n",
       "      <td>sensors2</td>\n",
       "      <td>23.833349</td>\n",
       "      <td>9:03:36</td>\n",
       "    </tr>\n",
       "    <tr>\n",
       "      <th>2</th>\n",
       "      <td>92.055269</td>\n",
       "      <td>64.740733</td>\n",
       "      <td>sensors1</td>\n",
       "      <td>26.217064</td>\n",
       "      <td>9:03:36</td>\n",
       "    </tr>\n",
       "    <tr>\n",
       "      <th>3</th>\n",
       "      <td>92.055269</td>\n",
       "      <td>64.740733</td>\n",
       "      <td>sensors2</td>\n",
       "      <td>26.217064</td>\n",
       "      <td>9:03:36</td>\n",
       "    </tr>\n",
       "    <tr>\n",
       "      <th>4</th>\n",
       "      <td>89.879600</td>\n",
       "      <td>63.936600</td>\n",
       "      <td>sensors1</td>\n",
       "      <td>23.439999</td>\n",
       "      <td>9:03:36</td>\n",
       "    </tr>\n",
       "  </tbody>\n",
       "</table>\n",
       "</div>"
      ],
      "text/plain": [
       "   values_PostStage  values_MidStage sourceName  values_PreStage Timestamp_HR\n",
       "0         89.642216        66.550189   sensors1        23.833349      9:03:36\n",
       "1         89.642216        66.550189   sensors2        23.833349      9:03:36\n",
       "2         92.055269        64.740733   sensors1        26.217064      9:03:36\n",
       "3         92.055269        64.740733   sensors2        26.217064      9:03:36\n",
       "4         89.879600        63.936600   sensors1        23.439999      9:03:36"
      ]
     },
     "execution_count": 12,
     "metadata": {},
     "output_type": "execute_result"
    }
   ],
   "source": [
    "df_test.head()"
   ]
  },
  {
   "cell_type": "code",
   "execution_count": 13,
   "metadata": {
    "colab": {},
    "colab_type": "code",
    "id": "YYa8NnI9n_Rk"
   },
   "outputs": [
    {
     "name": "stderr",
     "output_type": "stream",
     "text": [
      "C:\\ProgramData\\Anaconda3\\envs\\AnomalyDetection\\lib\\site-packages\\ipykernel_launcher.py:1: FutureWarning: Indexing with multiple keys (implicitly converted to a tuple of keys) will be deprecated, use a list instead.\n",
      "  \"\"\"Entry point for launching an IPython kernel.\n",
      "C:\\ProgramData\\Anaconda3\\envs\\AnomalyDetection\\lib\\site-packages\\ipykernel_launcher.py:2: FutureWarning: Indexing with multiple keys (implicitly converted to a tuple of keys) will be deprecated, use a list instead.\n",
      "  \n"
     ]
    }
   ],
   "source": [
    "df_train_new = df_train.groupby('Timestamp_HR', as_index=False)['values_PostStage', 'values_MidStage', 'values_PreStage'].mean()\n",
    "df_test_new = df_test.groupby('Timestamp_HR', as_index=False)['values_PostStage', 'values_MidStage', 'values_PreStage'].mean()"
   ]
  },
  {
   "cell_type": "code",
   "execution_count": 14,
   "metadata": {
    "colab": {
     "base_uri": "https://localhost:8080/",
     "height": 173
    },
    "colab_type": "code",
    "id": "mkSpNBdMn_lx",
    "outputId": "64145ce3-832e-43db-e34c-7dd9df95a653"
   },
   "outputs": [
    {
     "name": "stdout",
     "output_type": "stream",
     "text": [
      "<class 'pandas.core.frame.DataFrame'>\n",
      "Int64Index: 2702 entries, 0 to 2701\n",
      "Data columns (total 4 columns):\n",
      " #   Column            Non-Null Count  Dtype  \n",
      "---  ------            --------------  -----  \n",
      " 0   Timestamp_HR      2702 non-null   object \n",
      " 1   values_PostStage  2702 non-null   float64\n",
      " 2   values_MidStage   2702 non-null   float64\n",
      " 3   values_PreStage   2702 non-null   float64\n",
      "dtypes: float64(3), object(1)\n",
      "memory usage: 105.5+ KB\n"
     ]
    }
   ],
   "source": [
    "df_train_new.info()"
   ]
  },
  {
   "cell_type": "code",
   "execution_count": 15,
   "metadata": {
    "colab": {},
    "colab_type": "code",
    "id": "HgBmpkV9n_pt"
   },
   "outputs": [],
   "source": [
    "# set index\n",
    "df_train_new.set_index('Timestamp_HR', inplace=True)"
   ]
  },
  {
   "cell_type": "code",
   "execution_count": 16,
   "metadata": {
    "colab": {
     "base_uri": "https://localhost:8080/",
     "height": 155
    },
    "colab_type": "code",
    "id": "SmIQ9lgbl4lL",
    "outputId": "000ff03c-135c-4ce7-b422-e1a43ad44f4d"
   },
   "outputs": [
    {
     "name": "stdout",
     "output_type": "stream",
     "text": [
      "<class 'pandas.core.frame.DataFrame'>\n",
      "Index: 2702 entries, 2/7/2020 9:09:09 to 2/7/2020 9:57:39\n",
      "Data columns (total 3 columns):\n",
      " #   Column            Non-Null Count  Dtype  \n",
      "---  ------            --------------  -----  \n",
      " 0   values_PostStage  2702 non-null   float64\n",
      " 1   values_MidStage   2702 non-null   float64\n",
      " 2   values_PreStage   2702 non-null   float64\n",
      "dtypes: float64(3)\n",
      "memory usage: 84.4+ KB\n"
     ]
    }
   ],
   "source": [
    "df_train_new.info()"
   ]
  },
  {
   "cell_type": "code",
   "execution_count": 17,
   "metadata": {
    "colab": {
     "base_uri": "https://localhost:8080/",
     "height": 228
    },
    "colab_type": "code",
    "id": "soWNYsj9oRh7",
    "outputId": "e3700c72-f452-499c-83cf-b5a5764cb02f"
   },
   "outputs": [
    {
     "data": {
      "text/html": [
       "<div>\n",
       "<style scoped>\n",
       "    .dataframe tbody tr th:only-of-type {\n",
       "        vertical-align: middle;\n",
       "    }\n",
       "\n",
       "    .dataframe tbody tr th {\n",
       "        vertical-align: top;\n",
       "    }\n",
       "\n",
       "    .dataframe thead th {\n",
       "        text-align: right;\n",
       "    }\n",
       "</style>\n",
       "<table border=\"1\" class=\"dataframe\">\n",
       "  <thead>\n",
       "    <tr style=\"text-align: right;\">\n",
       "      <th></th>\n",
       "      <th>values_PostStage</th>\n",
       "      <th>values_MidStage</th>\n",
       "      <th>values_PreStage</th>\n",
       "    </tr>\n",
       "    <tr>\n",
       "      <th>Timestamp_HR</th>\n",
       "      <th></th>\n",
       "      <th></th>\n",
       "      <th></th>\n",
       "    </tr>\n",
       "  </thead>\n",
       "  <tbody>\n",
       "    <tr>\n",
       "      <th>2/7/2020 9:09:09</th>\n",
       "      <td>89.761779</td>\n",
       "      <td>64.819085</td>\n",
       "      <td>25.588651</td>\n",
       "    </tr>\n",
       "    <tr>\n",
       "      <th>2/7/2020 9:09:10</th>\n",
       "      <td>90.471943</td>\n",
       "      <td>64.696170</td>\n",
       "      <td>24.770616</td>\n",
       "    </tr>\n",
       "    <tr>\n",
       "      <th>2/7/2020 9:09:11</th>\n",
       "      <td>89.803776</td>\n",
       "      <td>65.278842</td>\n",
       "      <td>24.946765</td>\n",
       "    </tr>\n",
       "    <tr>\n",
       "      <th>2/7/2020 9:09:12</th>\n",
       "      <td>90.027319</td>\n",
       "      <td>64.789562</td>\n",
       "      <td>24.750992</td>\n",
       "    </tr>\n",
       "    <tr>\n",
       "      <th>2/7/2020 9:09:13</th>\n",
       "      <td>89.799183</td>\n",
       "      <td>65.006167</td>\n",
       "      <td>25.567681</td>\n",
       "    </tr>\n",
       "  </tbody>\n",
       "</table>\n",
       "</div>"
      ],
      "text/plain": [
       "                  values_PostStage  values_MidStage  values_PreStage\n",
       "Timestamp_HR                                                        \n",
       "2/7/2020 9:09:09         89.761779        64.819085        25.588651\n",
       "2/7/2020 9:09:10         90.471943        64.696170        24.770616\n",
       "2/7/2020 9:09:11         89.803776        65.278842        24.946765\n",
       "2/7/2020 9:09:12         90.027319        64.789562        24.750992\n",
       "2/7/2020 9:09:13         89.799183        65.006167        25.567681"
      ]
     },
     "execution_count": 17,
     "metadata": {},
     "output_type": "execute_result"
    }
   ],
   "source": [
    "df_train_new.head()"
   ]
  },
  {
   "cell_type": "code",
   "execution_count": 18,
   "metadata": {
    "colab": {},
    "colab_type": "code",
    "id": "M4zbKP7ppfx7"
   },
   "outputs": [],
   "source": [
    "df_train_new.to_csv('train.csv')"
   ]
  },
  {
   "cell_type": "code",
   "execution_count": 19,
   "metadata": {
    "colab": {
     "base_uri": "https://localhost:8080/",
     "height": 173
    },
    "colab_type": "code",
    "id": "_fWXfFbDJQuy",
    "outputId": "5509efeb-97e9-442e-8931-44784b32fba3"
   },
   "outputs": [
    {
     "name": "stdout",
     "output_type": "stream",
     "text": [
      "<class 'pandas.core.frame.DataFrame'>\n",
      "Int64Index: 14941 entries, 0 to 14940\n",
      "Data columns (total 4 columns):\n",
      " #   Column            Non-Null Count  Dtype  \n",
      "---  ------            --------------  -----  \n",
      " 0   Timestamp_HR      14941 non-null  object \n",
      " 1   values_PostStage  14941 non-null  float64\n",
      " 2   values_MidStage   14941 non-null  float64\n",
      " 3   values_PreStage   14941 non-null  float64\n",
      "dtypes: float64(3), object(1)\n",
      "memory usage: 583.6+ KB\n"
     ]
    }
   ],
   "source": [
    "df_test_new.info()"
   ]
  },
  {
   "cell_type": "code",
   "execution_count": 20,
   "metadata": {
    "colab": {},
    "colab_type": "code",
    "id": "uUH2O27cJQ01"
   },
   "outputs": [],
   "source": [
    "# set index\n",
    "df_test_new.set_index('Timestamp_HR', inplace=True)"
   ]
  },
  {
   "cell_type": "code",
   "execution_count": 21,
   "metadata": {
    "colab": {
     "base_uri": "https://localhost:8080/",
     "height": 155
    },
    "colab_type": "code",
    "id": "i92DrTk3JQyx",
    "outputId": "b2e2cca6-ce66-4c1e-f21b-b0702f95bb00"
   },
   "outputs": [
    {
     "name": "stdout",
     "output_type": "stream",
     "text": [
      "<class 'pandas.core.frame.DataFrame'>\n",
      "Index: 14941 entries, 10:00:00 to 9:59:59\n",
      "Data columns (total 3 columns):\n",
      " #   Column            Non-Null Count  Dtype  \n",
      "---  ------            --------------  -----  \n",
      " 0   values_PostStage  14941 non-null  float64\n",
      " 1   values_MidStage   14941 non-null  float64\n",
      " 2   values_PreStage   14941 non-null  float64\n",
      "dtypes: float64(3)\n",
      "memory usage: 466.9+ KB\n"
     ]
    }
   ],
   "source": [
    "df_test_new.info()"
   ]
  },
  {
   "cell_type": "code",
   "execution_count": 22,
   "metadata": {
    "colab": {
     "base_uri": "https://localhost:8080/",
     "height": 228
    },
    "colab_type": "code",
    "id": "evwNIVeVJQsY",
    "outputId": "144edef0-1251-4b2a-f506-1eca9d515ffe"
   },
   "outputs": [
    {
     "data": {
      "text/html": [
       "<div>\n",
       "<style scoped>\n",
       "    .dataframe tbody tr th:only-of-type {\n",
       "        vertical-align: middle;\n",
       "    }\n",
       "\n",
       "    .dataframe tbody tr th {\n",
       "        vertical-align: top;\n",
       "    }\n",
       "\n",
       "    .dataframe thead th {\n",
       "        text-align: right;\n",
       "    }\n",
       "</style>\n",
       "<table border=\"1\" class=\"dataframe\">\n",
       "  <thead>\n",
       "    <tr style=\"text-align: right;\">\n",
       "      <th></th>\n",
       "      <th>values_PostStage</th>\n",
       "      <th>values_MidStage</th>\n",
       "      <th>values_PreStage</th>\n",
       "    </tr>\n",
       "    <tr>\n",
       "      <th>Timestamp_HR</th>\n",
       "      <th></th>\n",
       "      <th></th>\n",
       "      <th></th>\n",
       "    </tr>\n",
       "  </thead>\n",
       "  <tbody>\n",
       "    <tr>\n",
       "      <th>10:00:00</th>\n",
       "      <td>90.353008</td>\n",
       "      <td>65.360978</td>\n",
       "      <td>24.839547</td>\n",
       "    </tr>\n",
       "    <tr>\n",
       "      <th>10:00:01</th>\n",
       "      <td>90.230590</td>\n",
       "      <td>64.393734</td>\n",
       "      <td>25.093748</td>\n",
       "    </tr>\n",
       "    <tr>\n",
       "      <th>10:00:02</th>\n",
       "      <td>89.918064</td>\n",
       "      <td>65.008952</td>\n",
       "      <td>25.244700</td>\n",
       "    </tr>\n",
       "    <tr>\n",
       "      <th>10:00:03</th>\n",
       "      <td>90.170098</td>\n",
       "      <td>65.495554</td>\n",
       "      <td>24.613488</td>\n",
       "    </tr>\n",
       "    <tr>\n",
       "      <th>10:00:04</th>\n",
       "      <td>90.387884</td>\n",
       "      <td>64.364900</td>\n",
       "      <td>24.819825</td>\n",
       "    </tr>\n",
       "  </tbody>\n",
       "</table>\n",
       "</div>"
      ],
      "text/plain": [
       "              values_PostStage  values_MidStage  values_PreStage\n",
       "Timestamp_HR                                                    \n",
       "10:00:00             90.353008        65.360978        24.839547\n",
       "10:00:01             90.230590        64.393734        25.093748\n",
       "10:00:02             89.918064        65.008952        25.244700\n",
       "10:00:03             90.170098        65.495554        24.613488\n",
       "10:00:04             90.387884        64.364900        24.819825"
      ]
     },
     "execution_count": 22,
     "metadata": {},
     "output_type": "execute_result"
    }
   ],
   "source": [
    "df_test_new.head()"
   ]
  },
  {
   "cell_type": "code",
   "execution_count": 23,
   "metadata": {
    "colab": {},
    "colab_type": "code",
    "id": "vEkwbKJdJlP9"
   },
   "outputs": [],
   "source": [
    "df_test_new.to_csv('test.csv')"
   ]
  },
  {
   "cell_type": "markdown",
   "metadata": {},
   "source": [
    "## Define train and test dataset"
   ]
  },
  {
   "cell_type": "code",
   "execution_count": 24,
   "metadata": {
    "colab": {},
    "colab_type": "code",
    "id": "0AQjkdcOpo56"
   },
   "outputs": [],
   "source": [
    "# Define train and test dataset\n",
    "df_train_new.drop(labels=['values_MidStage', 'values_PreStage'], axis=1, inplace=True)\n",
    "df_test_new.drop(labels=['values_MidStage', 'values_PreStage'], axis=1, inplace=True)"
   ]
  },
  {
   "cell_type": "code",
   "execution_count": 25,
   "metadata": {
    "colab": {
     "base_uri": "https://localhost:8080/",
     "height": 228
    },
    "colab_type": "code",
    "id": "LMBn8XKaDT1J",
    "outputId": "c3c84644-69c7-4dd4-f961-6c23db2b005c"
   },
   "outputs": [
    {
     "data": {
      "text/html": [
       "<div>\n",
       "<style scoped>\n",
       "    .dataframe tbody tr th:only-of-type {\n",
       "        vertical-align: middle;\n",
       "    }\n",
       "\n",
       "    .dataframe tbody tr th {\n",
       "        vertical-align: top;\n",
       "    }\n",
       "\n",
       "    .dataframe thead th {\n",
       "        text-align: right;\n",
       "    }\n",
       "</style>\n",
       "<table border=\"1\" class=\"dataframe\">\n",
       "  <thead>\n",
       "    <tr style=\"text-align: right;\">\n",
       "      <th></th>\n",
       "      <th>values_PostStage</th>\n",
       "    </tr>\n",
       "    <tr>\n",
       "      <th>Timestamp_HR</th>\n",
       "      <th></th>\n",
       "    </tr>\n",
       "  </thead>\n",
       "  <tbody>\n",
       "    <tr>\n",
       "      <th>2/7/2020 9:09:09</th>\n",
       "      <td>89.761779</td>\n",
       "    </tr>\n",
       "    <tr>\n",
       "      <th>2/7/2020 9:09:10</th>\n",
       "      <td>90.471943</td>\n",
       "    </tr>\n",
       "    <tr>\n",
       "      <th>2/7/2020 9:09:11</th>\n",
       "      <td>89.803776</td>\n",
       "    </tr>\n",
       "    <tr>\n",
       "      <th>2/7/2020 9:09:12</th>\n",
       "      <td>90.027319</td>\n",
       "    </tr>\n",
       "    <tr>\n",
       "      <th>2/7/2020 9:09:13</th>\n",
       "      <td>89.799183</td>\n",
       "    </tr>\n",
       "  </tbody>\n",
       "</table>\n",
       "</div>"
      ],
      "text/plain": [
       "                  values_PostStage\n",
       "Timestamp_HR                      \n",
       "2/7/2020 9:09:09         89.761779\n",
       "2/7/2020 9:09:10         90.471943\n",
       "2/7/2020 9:09:11         89.803776\n",
       "2/7/2020 9:09:12         90.027319\n",
       "2/7/2020 9:09:13         89.799183"
      ]
     },
     "execution_count": 25,
     "metadata": {},
     "output_type": "execute_result"
    }
   ],
   "source": [
    "df_train_new.head()"
   ]
  },
  {
   "cell_type": "code",
   "execution_count": 26,
   "metadata": {
    "colab": {
     "base_uri": "https://localhost:8080/",
     "height": 228
    },
    "colab_type": "code",
    "id": "1oOJt61Ixkm3",
    "outputId": "1c7d7881-421c-4a13-cda6-9c53fd9d79fe"
   },
   "outputs": [
    {
     "data": {
      "text/html": [
       "<div>\n",
       "<style scoped>\n",
       "    .dataframe tbody tr th:only-of-type {\n",
       "        vertical-align: middle;\n",
       "    }\n",
       "\n",
       "    .dataframe tbody tr th {\n",
       "        vertical-align: top;\n",
       "    }\n",
       "\n",
       "    .dataframe thead th {\n",
       "        text-align: right;\n",
       "    }\n",
       "</style>\n",
       "<table border=\"1\" class=\"dataframe\">\n",
       "  <thead>\n",
       "    <tr style=\"text-align: right;\">\n",
       "      <th></th>\n",
       "      <th>values_PostStage</th>\n",
       "    </tr>\n",
       "    <tr>\n",
       "      <th>Timestamp_HR</th>\n",
       "      <th></th>\n",
       "    </tr>\n",
       "  </thead>\n",
       "  <tbody>\n",
       "    <tr>\n",
       "      <th>10:00:00</th>\n",
       "      <td>90.353008</td>\n",
       "    </tr>\n",
       "    <tr>\n",
       "      <th>10:00:01</th>\n",
       "      <td>90.230590</td>\n",
       "    </tr>\n",
       "    <tr>\n",
       "      <th>10:00:02</th>\n",
       "      <td>89.918064</td>\n",
       "    </tr>\n",
       "    <tr>\n",
       "      <th>10:00:03</th>\n",
       "      <td>90.170098</td>\n",
       "    </tr>\n",
       "    <tr>\n",
       "      <th>10:00:04</th>\n",
       "      <td>90.387884</td>\n",
       "    </tr>\n",
       "  </tbody>\n",
       "</table>\n",
       "</div>"
      ],
      "text/plain": [
       "              values_PostStage\n",
       "Timestamp_HR                  \n",
       "10:00:00             90.353008\n",
       "10:00:01             90.230590\n",
       "10:00:02             89.918064\n",
       "10:00:03             90.170098\n",
       "10:00:04             90.387884"
      ]
     },
     "execution_count": 26,
     "metadata": {},
     "output_type": "execute_result"
    }
   ],
   "source": [
    "df_test_new.head()"
   ]
  },
  {
   "cell_type": "code",
   "execution_count": 27,
   "metadata": {
    "colab": {},
    "colab_type": "code",
    "id": "aSoWAm2Tt1e4"
   },
   "outputs": [],
   "source": [
    "# split into train and test split\n",
    "train = df_train_new\n",
    "val = df_test_new"
   ]
  },
  {
   "cell_type": "code",
   "execution_count": 28,
   "metadata": {
    "colab": {
     "base_uri": "https://localhost:8080/",
     "height": 34
    },
    "colab_type": "code",
    "id": "9_wCrlcIuWyn",
    "outputId": "28f62a09-f87a-4add-ab4c-057bce041d44"
   },
   "outputs": [
    {
     "data": {
      "text/plain": [
       "((2702, 1), (14941, 1))"
      ]
     },
     "execution_count": 28,
     "metadata": {},
     "output_type": "execute_result"
    }
   ],
   "source": [
    "train.shape, val.shape"
   ]
  },
  {
   "cell_type": "markdown",
   "metadata": {},
   "source": [
    "## plot time domain to the frequency domain using fast Fourier transform"
   ]
  },
  {
   "cell_type": "code",
   "execution_count": 29,
   "metadata": {
    "colab": {
     "base_uri": "https://localhost:8080/",
     "height": 439
    },
    "colab_type": "code",
    "id": "F9SbGERGuh9a",
    "outputId": "c0408b6b-3e5b-4518-eb31-c158af9eb5ee"
   },
   "outputs": [
    {
     "data": {
      "image/png": "[encoded data removed]",
      "text/plain": [
       "<Figure size 1120x480 with 1 Axes>"
      ]
     },
     "metadata": {
      "needs_background": "light"
     },
     "output_type": "display_data"
    }
   ],
   "source": [
    "# Only fot values_PostStage\n",
    "fig, ax = plt.subplots(figsize=(14, 6), dpi=80)\n",
    "ax.plot(train['values_PostStage'], label='values_PostStage', color='blue', animated = True, linewidth=1)\n",
    "plt.legend(loc='lower left')\n",
    "ax.set_title('Sensor Training Data', fontsize=16)\n",
    "plt.show()"
   ]
  },
  {
   "cell_type": "code",
   "execution_count": 30,
   "metadata": {
    "colab": {
     "base_uri": "https://localhost:8080/",
     "height": 318
    },
    "colab_type": "code",
    "id": "VXRorA1P9DXF",
    "outputId": "4590f41e-c471-4057-c2db-b3f2f5cc1305"
   },
   "outputs": [
    {
     "data": {
      "image/png": "[encoded data removed]",
      "text/plain": [
       "<Figure size 800x320 with 1 Axes>"
      ]
     },
     "metadata": {
      "needs_background": "light"
     },
     "output_type": "display_data"
    }
   ],
   "source": [
    "# Only fot values_PostStage\n",
    "fig, ax = plt.subplots(figsize=(10, 4), dpi=80)\n",
    "ax.plot(val['values_PostStage'][:200], label='values_PostStage', color='blue', animated = True, linewidth=1)\n",
    "plt.legend(loc='lower left')\n",
    "ax.set_title('Sensor Training Data', fontsize=16)\n",
    "plt.show()"
   ]
  },
  {
   "cell_type": "code",
   "execution_count": 31,
   "metadata": {
    "colab": {},
    "colab_type": "code",
    "id": "Zo8-hRaH9lMd"
   },
   "outputs": [],
   "source": [
    "# transforming data from the time domain to the frequency domain using fast Fourier transform\n",
    "train_fft = np.fft.fft(train)\n",
    "val_fft = np.fft.fft(val)"
   ]
  },
  {
   "cell_type": "code",
   "execution_count": 32,
   "metadata": {
    "colab": {
     "base_uri": "https://localhost:8080/",
     "height": 977
    },
    "colab_type": "code",
    "id": "ehx4sMyq9wW5",
    "outputId": "05605741-b749-40aa-9749-a7aa4de643b9"
   },
   "outputs": [
    {
     "name": "stderr",
     "output_type": "stream",
     "text": [
      "C:\\ProgramData\\Anaconda3\\envs\\AnomalyDetection\\lib\\site-packages\\numpy\\core\\_asarray.py:85: ComplexWarning: Casting complex values to real discards the imaginary part\n",
      "  return array(a, dtype, copy=False, order=order)\n",
      "C:\\ProgramData\\Anaconda3\\envs\\AnomalyDetection\\lib\\site-packages\\ipykernel_launcher.py:4: MatplotlibDeprecationWarning: Unrecognized location 'top left'. Falling back on 'best'; valid locations are\n",
      "\tbest\n",
      "\tupper right\n",
      "\tupper left\n",
      "\tlower left\n",
      "\tlower right\n",
      "\tright\n",
      "\tcenter left\n",
      "\tcenter right\n",
      "\tlower center\n",
      "\tupper center\n",
      "\tcenter\n",
      "This will raise an exception in 3.3.\n",
      "  after removing the cwd from sys.path.\n"
     ]
    },
    {
     "data": {
      "image/png": "[encoded data removed]",
      "text/plain": [
       "<Figure size 1120x800 with 1 Axes>"
      ]
     },
     "metadata": {
      "needs_background": "light"
     },
     "output_type": "display_data"
    }
   ],
   "source": [
    "# frequencies of the healthy sensor signal\n",
    "fig, ax = plt.subplots(figsize=(14, 10), dpi=80)\n",
    "ax.plot(train_fft[:,0], label='values_PostStage', color='blue', animated = True, linewidth=1)\n",
    "plt.legend(loc='top left')\n",
    "ax.set_title('Sensor Training Data', fontsize=16)\n",
    "plt.show()"
   ]
  },
  {
   "cell_type": "code",
   "execution_count": 33,
   "metadata": {
    "colab": {
     "base_uri": "https://localhost:8080/",
     "height": 715
    },
    "colab_type": "code",
    "id": "GSabHhF--Klq",
    "outputId": "af7876e5-65e8-4d14-99c7-fbe8782e7b96"
   },
   "outputs": [
    {
     "name": "stderr",
     "output_type": "stream",
     "text": [
      "C:\\ProgramData\\Anaconda3\\envs\\AnomalyDetection\\lib\\site-packages\\numpy\\core\\_asarray.py:85: ComplexWarning: Casting complex values to real discards the imaginary part\n",
      "  return array(a, dtype, copy=False, order=order)\n"
     ]
    },
    {
     "data": {
      "image/png": "[encoded data removed]",
      "text/plain": [
       "<Figure size 1120x800 with 1 Axes>"
      ]
     },
     "metadata": {
      "needs_background": "light"
     },
     "output_type": "display_data"
    }
   ],
   "source": [
    "# frequencies of the healthy sensor signal\n",
    "fig, ax = plt.subplots(figsize=(14, 10), dpi=80)\n",
    "ax.plot(val_fft[:,0], label='values_PostStage', color='blue', animated = True, linewidth=1)\n",
    "plt.legend(loc='lower left')\n",
    "ax.set_title('Sensor Training Data', fontsize=16)\n",
    "plt.show()"
   ]
  },
  {
   "cell_type": "markdown",
   "metadata": {},
   "source": [
    "## Normalize dataset"
   ]
  },
  {
   "cell_type": "code",
   "execution_count": 34,
   "metadata": {
    "colab": {
     "base_uri": "https://localhost:8080/",
     "height": 34
    },
    "colab_type": "code",
    "id": "NStXQexz-gGk",
    "outputId": "99632f12-6e5c-4342-b155-435c1511a925"
   },
   "outputs": [
    {
     "data": {
      "text/plain": [
       "['scaler_data']"
      ]
     },
     "execution_count": 34,
     "metadata": {},
     "output_type": "execute_result"
    }
   ],
   "source": [
    "# first normalize it to a range between 0 and 1.\n",
    "# normalize the data\n",
    "scaler = MinMaxScaler()\n",
    "X_train = scaler.fit_transform(train)\n",
    "X_val = scaler.transform(val)\n",
    "scaler_filename = \"scaler_data\"\n",
    "joblib.dump(scaler, scaler_filename)"
   ]
  },
  {
   "cell_type": "code",
   "execution_count": 35,
   "metadata": {
    "colab": {
     "base_uri": "https://localhost:8080/",
     "height": 34
    },
    "colab_type": "code",
    "id": "-4L158SGCzQb",
    "outputId": "c87a4a70-7c3c-4786-98a0-4b79a635bfbd"
   },
   "outputs": [
    {
     "data": {
      "text/plain": [
       "((2702, 1), (14941, 1))"
      ]
     },
     "execution_count": 35,
     "metadata": {},
     "output_type": "execute_result"
    }
   ],
   "source": [
    "X_train.shape, X_val.shape"
   ]
  },
  {
   "cell_type": "markdown",
   "metadata": {},
   "source": [
    "## reshape inputs for LSTM [samples, timesteps, features]"
   ]
  },
  {
   "cell_type": "code",
   "execution_count": 36,
   "metadata": {
    "colab": {
     "base_uri": "https://localhost:8080/",
     "height": 52
    },
    "colab_type": "code",
    "id": "qYNu24gNCquB",
    "outputId": "88fce708-89a2-4e67-d015-3ca3e7c5de3c"
   },
   "outputs": [
    {
     "name": "stdout",
     "output_type": "stream",
     "text": [
      "Training data shape: (2702, 1, 1)\n",
      "Test data shape: (14941, 1, 1)\n"
     ]
    }
   ],
   "source": [
    "# reshape inputs for LSTM [samples, timesteps, features]\n",
    "X_train = X_train.reshape(X_train.shape[0], 1, X_train.shape[1])\n",
    "print(\"Training data shape:\", X_train.shape)\n",
    "X_val = X_val.reshape(X_val.shape[0], 1, X_val.shape[1])\n",
    "print(\"Test data shape:\", X_val.shape)"
   ]
  },
  {
   "cell_type": "markdown",
   "metadata": {},
   "source": [
    "## Define model"
   ]
  },
  {
   "cell_type": "code",
   "execution_count": 37,
   "metadata": {
    "colab": {},
    "colab_type": "code",
    "id": "wXL72BLxDqJJ"
   },
   "outputs": [],
   "source": [
    "# define the autoencoder network model\n",
    "def autoencoder_model(X):\n",
    "    inputs = Input(shape=(X.shape[1], X.shape[2]))\n",
    "    L1 = LSTM(16, activation='relu', return_sequences=True, \n",
    "              kernel_regularizer=regularizers.l2(0.00))(inputs)\n",
    "    L2 = LSTM(4, activation='relu', return_sequences=False)(L1)\n",
    "    L3 = RepeatVector(X.shape[1])(L2)\n",
    "    L4 = LSTM(4, activation='relu', return_sequences=True)(L3)\n",
    "    L5 = LSTM(16, activation='relu', return_sequences=True)(L4)\n",
    "    output = TimeDistributed(Dense(X.shape[2]))(L5)    \n",
    "    model = Model(inputs=inputs, outputs=output)\n",
    "    return model"
   ]
  },
  {
   "cell_type": "code",
   "execution_count": 38,
   "metadata": {
    "colab": {
     "base_uri": "https://localhost:8080/",
     "height": 397
    },
    "colab_type": "code",
    "id": "82bpQ1asDu1L",
    "outputId": "3c3cc542-dbb8-4b10-96da-c59c9c0014d7"
   },
   "outputs": [
    {
     "name": "stdout",
     "output_type": "stream",
     "text": [
      "Model: \"model\"\n",
      "_________________________________________________________________\n",
      "Layer (type)                 Output Shape              Param #   \n",
      "=================================================================\n",
      "input_1 (InputLayer)         [(None, 1, 1)]            0         \n",
      "_________________________________________________________________\n",
      "lstm (LSTM)                  (None, 1, 16)             1152      \n",
      "_________________________________________________________________\n",
      "lstm_1 (LSTM)                (None, 4)                 336       \n",
      "_________________________________________________________________\n",
      "repeat_vector (RepeatVector) (None, 1, 4)              0         \n",
      "_________________________________________________________________\n",
      "lstm_2 (LSTM)                (None, 1, 4)              144       \n",
      "_________________________________________________________________\n",
      "lstm_3 (LSTM)                (None, 1, 16)             1344      \n",
      "_________________________________________________________________\n",
      "time_distributed (TimeDistri (None, 1, 1)              17        \n",
      "=================================================================\n",
      "Total params: 2,993\n",
      "Trainable params: 2,993\n",
      "Non-trainable params: 0\n",
      "_________________________________________________________________\n"
     ]
    }
   ],
   "source": [
    "# create the autoencoder model\n",
    "model = autoencoder_model(X_train)\n",
    "model.compile(optimizer='adam', loss='mae')\n",
    "model.summary()"
   ]
  },
  {
   "cell_type": "markdown",
   "metadata": {},
   "source": [
    "## Fit the model"
   ]
  },
  {
   "cell_type": "code",
   "execution_count": 39,
   "metadata": {
    "colab": {
     "base_uri": "https://localhost:8080/",
     "height": 1000
    },
    "colab_type": "code",
    "id": "AeM6e8XDDyGd",
    "outputId": "8b82ab10-1be2-4fe0-dfc9-9a1e80e7a352"
   },
   "outputs": [
    {
     "name": "stdout",
     "output_type": "stream",
     "text": [
      "Train on 2566 samples, validate on 136 samples\n",
      "Epoch 1/30\n",
      "2566/2566 [==============================] - 14s 5ms/sample - loss: 0.4221 - val_loss: 0.4019\n",
      "Epoch 2/30\n",
      "2566/2566 [==============================] - 0s 89us/sample - loss: 0.3810 - val_loss: 0.3580\n",
      "Epoch 3/30\n",
      "2566/2566 [==============================] - 0s 78us/sample - loss: 0.3336 - val_loss: 0.3062\n",
      "Epoch 4/30\n",
      "2566/2566 [==============================] - 0s 67us/sample - loss: 0.2766 - val_loss: 0.2422\n",
      "Epoch 5/30\n",
      "2566/2566 [==============================] - 0s 68us/sample - loss: 0.2040 - val_loss: 0.1577\n",
      "Epoch 6/30\n",
      "2566/2566 [==============================] - 0s 67us/sample - loss: 0.1027 - val_loss: 0.0314\n",
      "Epoch 7/30\n",
      "2566/2566 [==============================] - 0s 71us/sample - loss: 0.0156 - val_loss: 0.0108\n",
      "Epoch 8/30\n",
      "2566/2566 [==============================] - 0s 74us/sample - loss: 0.0112 - val_loss: 0.0080\n",
      "Epoch 9/30\n",
      "2566/2566 [==============================] - 0s 80us/sample - loss: 0.0107 - val_loss: 0.0080\n",
      "Epoch 10/30\n",
      "2566/2566 [==============================] - 0s 71us/sample - loss: 0.0107 - val_loss: 0.0078\n",
      "Epoch 11/30\n",
      "2566/2566 [==============================] - 0s 75us/sample - loss: 0.0107 - val_loss: 0.0078\n",
      "Epoch 12/30\n",
      "2566/2566 [==============================] - 0s 71us/sample - loss: 0.0107 - val_loss: 0.0078\n",
      "Epoch 13/30\n",
      "2566/2566 [==============================] - 0s 76us/sample - loss: 0.0106 - val_loss: 0.0078\n",
      "Epoch 14/30\n",
      "2566/2566 [==============================] - 0s 71us/sample - loss: 0.0106 - val_loss: 0.0078\n",
      "Epoch 15/30\n",
      "2566/2566 [==============================] - 0s 71us/sample - loss: 0.0106 - val_loss: 0.0079\n",
      "Epoch 16/30\n",
      "2566/2566 [==============================] - 0s 71us/sample - loss: 0.0106 - val_loss: 0.0077\n",
      "Epoch 17/30\n",
      "2566/2566 [==============================] - 0s 70us/sample - loss: 0.0106 - val_loss: 0.0077\n",
      "Epoch 18/30\n",
      "2566/2566 [==============================] - 0s 74us/sample - loss: 0.0106 - val_loss: 0.0078\n",
      "Epoch 19/30\n",
      "2566/2566 [==============================] - 0s 71us/sample - loss: 0.0105 - val_loss: 0.0076\n",
      "Epoch 20/30\n",
      "2566/2566 [==============================] - 0s 72us/sample - loss: 0.0105 - val_loss: 0.0077\n",
      "Epoch 21/30\n",
      "2566/2566 [==============================] - 0s 74us/sample - loss: 0.0105 - val_loss: 0.0079\n",
      "Epoch 22/30\n",
      "2566/2566 [==============================] - 0s 79us/sample - loss: 0.0104 - val_loss: 0.0076\n",
      "Epoch 23/30\n",
      "2566/2566 [==============================] - 0s 72us/sample - loss: 0.0103 - val_loss: 0.0076\n",
      "Epoch 24/30\n",
      "2566/2566 [==============================] - 0s 74us/sample - loss: 0.0103 - val_loss: 0.0075\n",
      "Epoch 25/30\n",
      "2566/2566 [==============================] - 0s 70us/sample - loss: 0.0103 - val_loss: 0.0077\n",
      "Epoch 26/30\n",
      "2566/2566 [==============================] - 0s 74us/sample - loss: 0.0103 - val_loss: 0.0076\n",
      "Epoch 27/30\n",
      "2566/2566 [==============================] - 0s 76us/sample - loss: 0.0102 - val_loss: 0.0074\n",
      "Epoch 28/30\n",
      "2566/2566 [==============================] - 0s 72us/sample - loss: 0.0101 - val_loss: 0.0073\n",
      "Epoch 29/30\n",
      "2566/2566 [==============================] - 0s 71us/sample - loss: 0.0101 - val_loss: 0.0074\n",
      "Epoch 30/30\n",
      "2566/2566 [==============================] - 0s 74us/sample - loss: 0.0100 - val_loss: 0.0073\n"
     ]
    }
   ],
   "source": [
    "# fit the model to the data\n",
    "nb_epochs = 30\n",
    "batch_size = 100\n",
    "history = model.fit(X_train, X_train, epochs=nb_epochs, batch_size=batch_size,\n",
    "                    validation_split=0.05).history"
   ]
  },
  {
   "cell_type": "code",
   "execution_count": 40,
   "metadata": {
    "colab": {
     "base_uri": "https://localhost:8080/",
     "height": 268
    },
    "colab_type": "code",
    "id": "Emf4BOUNEJyu",
    "outputId": "19c59377-cd6c-44ba-9ea5-09e9c4db7608"
   },
   "outputs": [
    {
     "data": {
      "image/png": "[encoded data removed]",
      "text/plain": [
       "<Figure size 432x288 with 1 Axes>"
      ]
     },
     "metadata": {
      "needs_background": "light"
     },
     "output_type": "display_data"
    }
   ],
   "source": [
    "# plot loss\n",
    "plt.plot(history['loss'], label='train')\n",
    "plt.plot(history['val_loss'], label='val')\n",
    "plt.legend();"
   ]
  },
  {
   "cell_type": "markdown",
   "metadata": {},
   "source": [
    "## Finding Anomalies"
   ]
  },
  {
   "cell_type": "code",
   "execution_count": 41,
   "metadata": {
    "colab": {},
    "colab_type": "code",
    "id": "a6tIpM0dEsJX"
   },
   "outputs": [],
   "source": [
    "# Finding Anomalies\n",
    "X_train_pred = model.predict(X_train)\n",
    "\n",
    "train_mae_loss = np.mean(np.abs(X_train_pred - X_train), axis=1)"
   ]
  },
  {
   "cell_type": "code",
   "execution_count": 42,
   "metadata": {
    "colab": {
     "base_uri": "https://localhost:8080/",
     "height": 268
    },
    "colab_type": "code",
    "id": "rWsoIKZyFOJq",
    "outputId": "aad62752-1662-44e3-c9a4-a9428ae85800"
   },
   "outputs": [
    {
     "data": {
      "image/png": "[encoded data removed]",
      "text/plain": [
       "<Figure size 432x288 with 1 Axes>"
      ]
     },
     "metadata": {
      "needs_background": "light"
     },
     "output_type": "display_data"
    }
   ],
   "source": [
    "# look at the error:\n",
    "sns.distplot(train_mae_loss, bins=50, kde=True);"
   ]
  },
  {
   "cell_type": "code",
   "execution_count": 43,
   "metadata": {
    "colab": {},
    "colab_type": "code",
    "id": "Xhhyj-B9FPtE"
   },
   "outputs": [],
   "source": [
    "THRESHOLD = 0.03"
   ]
  },
  {
   "cell_type": "code",
   "execution_count": 44,
   "metadata": {
    "colab": {},
    "colab_type": "code",
    "id": "YUjWnQr1FZMy"
   },
   "outputs": [],
   "source": [
    "# Let’s calculate the MAE on the test data:\n",
    "X_val_pred = model.predict(X_val)\n",
    "\n",
    "val_mae_loss = np.mean(np.abs(X_val_pred - X_val), axis=1)"
   ]
  },
  {
   "cell_type": "code",
   "execution_count": 45,
   "metadata": {
    "colab": {},
    "colab_type": "code",
    "id": "yeZ9rvWwFhIu"
   },
   "outputs": [],
   "source": [
    "# We’ll build a DataFrame containing the loss and the anomalies (values above the threshold):\n",
    "val_score_df = pd.DataFrame(index=val.index)\n",
    "val_score_df['loss'] = val_mae_loss\n",
    "val_score_df['threshold'] = THRESHOLD\n",
    "val_score_df['anomaly'] = val_score_df.loss > val_score_df.threshold\n",
    "val_score_df['values_PostStage'] = val.values_PostStage"
   ]
  },
  {
   "cell_type": "code",
   "execution_count": 46,
   "metadata": {
    "colab": {
     "base_uri": "https://localhost:8080/",
     "height": 288
    },
    "colab_type": "code",
    "id": "43zpWR_jF_hl",
    "outputId": "f38f9eae-df4c-4665-a70e-474658302073"
   },
   "outputs": [
    {
     "data": {
      "image/png": "[encoded data removed]",
      "text/plain": [
       "<Figure size 432x288 with 1 Axes>"
      ]
     },
     "metadata": {
      "needs_background": "light"
     },
     "output_type": "display_data"
    }
   ],
   "source": [
    "plt.plot(val_score_df.index, val_score_df.loss, label='loss')\n",
    "plt.plot(val_score_df.index, val_score_df.threshold, label='threshold')\n",
    "plt.xticks(rotation=25)\n",
    "plt.legend();"
   ]
  },
  {
   "cell_type": "code",
   "execution_count": 47,
   "metadata": {
    "colab": {
     "base_uri": "https://localhost:8080/",
     "height": 228
    },
    "colab_type": "code",
    "id": "0G2Uyq-oFwna",
    "outputId": "3c01d473-8a29-4123-9a8f-5648e65be612"
   },
   "outputs": [
    {
     "data": {
      "text/html": [
       "<div>\n",
       "<style scoped>\n",
       "    .dataframe tbody tr th:only-of-type {\n",
       "        vertical-align: middle;\n",
       "    }\n",
       "\n",
       "    .dataframe tbody tr th {\n",
       "        vertical-align: top;\n",
       "    }\n",
       "\n",
       "    .dataframe thead th {\n",
       "        text-align: right;\n",
       "    }\n",
       "</style>\n",
       "<table border=\"1\" class=\"dataframe\">\n",
       "  <thead>\n",
       "    <tr style=\"text-align: right;\">\n",
       "      <th></th>\n",
       "      <th>loss</th>\n",
       "      <th>threshold</th>\n",
       "      <th>anomaly</th>\n",
       "      <th>values_PostStage</th>\n",
       "    </tr>\n",
       "    <tr>\n",
       "      <th>Timestamp_HR</th>\n",
       "      <th></th>\n",
       "      <th></th>\n",
       "      <th></th>\n",
       "      <th></th>\n",
       "    </tr>\n",
       "  </thead>\n",
       "  <tbody>\n",
       "    <tr>\n",
       "      <th>10:04:52</th>\n",
       "      <td>0.034207</td>\n",
       "      <td>0.03</td>\n",
       "      <td>True</td>\n",
       "      <td>91.141918</td>\n",
       "    </tr>\n",
       "    <tr>\n",
       "      <th>10:06:21</th>\n",
       "      <td>0.030880</td>\n",
       "      <td>0.03</td>\n",
       "      <td>True</td>\n",
       "      <td>88.960854</td>\n",
       "    </tr>\n",
       "    <tr>\n",
       "      <th>10:06:56</th>\n",
       "      <td>0.034358</td>\n",
       "      <td>0.03</td>\n",
       "      <td>True</td>\n",
       "      <td>88.845305</td>\n",
       "    </tr>\n",
       "    <tr>\n",
       "      <th>10:07:38</th>\n",
       "      <td>0.030047</td>\n",
       "      <td>0.03</td>\n",
       "      <td>True</td>\n",
       "      <td>91.001377</td>\n",
       "    </tr>\n",
       "    <tr>\n",
       "      <th>10:08:03</th>\n",
       "      <td>0.031382</td>\n",
       "      <td>0.03</td>\n",
       "      <td>True</td>\n",
       "      <td>88.944178</td>\n",
       "    </tr>\n",
       "  </tbody>\n",
       "</table>\n",
       "</div>"
      ],
      "text/plain": [
       "                  loss  threshold  anomaly  values_PostStage\n",
       "Timestamp_HR                                                \n",
       "10:04:52      0.034207       0.03     True         91.141918\n",
       "10:06:21      0.030880       0.03     True         88.960854\n",
       "10:06:56      0.034358       0.03     True         88.845305\n",
       "10:07:38      0.030047       0.03     True         91.001377\n",
       "10:08:03      0.031382       0.03     True         88.944178"
      ]
     },
     "execution_count": 47,
     "metadata": {},
     "output_type": "execute_result"
    }
   ],
   "source": [
    "# Looks like we’re thresholding extreme values quite well. Let’s create a DataFrame using only those:\n",
    "anomalies = val_score_df[val_score_df.anomaly == True]\n",
    "anomalies.head()"
   ]
  },
  {
   "cell_type": "markdown",
   "metadata": {},
   "source": [
    "## Plot Anomalies on test data"
   ]
  },
  {
   "cell_type": "code",
   "execution_count": 48,
   "metadata": {
    "colab": {},
    "colab_type": "code",
    "id": "87EhLWFtHBVO"
   },
   "outputs": [
    {
     "data": {
      "image/png": "[encoded data removed]",
      "text/plain": [
       "<Figure size 432x288 with 1 Axes>"
      ]
     },
     "metadata": {
      "needs_background": "light"
     },
     "output_type": "display_data"
    }
   ],
   "source": [
    "plt.plot(\n",
    "  val.index, \n",
    "  val.values_PostStage, \n",
    "  label='values_PostStage'\n",
    ");\n",
    "\n",
    "sns.scatterplot(\n",
    "  anomalies.index,\n",
    "  anomalies.values_PostStage,\n",
    "  color=sns.color_palette()[3],\n",
    "  s=52,\n",
    "  label='anomaly'\n",
    ")\n",
    "plt.xticks(rotation=25)\n",
    "plt.legend();"
   ]
  },
  {
   "cell_type": "markdown",
   "metadata": {},
   "source": [
    "## Save Model"
   ]
  },
  {
   "cell_type": "code",
   "execution_count": 49,
   "metadata": {},
   "outputs": [
    {
     "name": "stdout",
     "output_type": "stream",
     "text": [
      "Model saved\n"
     ]
    }
   ],
   "source": [
    "# save all model information, including weights, in h5 format\n",
    "model.save(\"sensor_model.h5\")\n",
    "print(\"Model saved\")"
   ]
  }
 ],
 "metadata": {
  "accelerator": "GPU",
  "colab": {
   "collapsed_sections": [],
   "name": "Anomaly Detection on Sensor Data.ipynb",
   "provenance": []
  },
  "kernelspec": {
   "display_name": "Python 3",
   "language": "python",
   "name": "python3"
  },
  "language_info": {
   "codemirror_mode": {
    "name": "ipython",
    "version": 3
   },
   "file_extension": ".py",
   "mimetype": "text/x-python",
   "name": "python",
   "nbconvert_exporter": "python",
   "pygments_lexer": "ipython3",
   "version": "3.6.10"
  }
 },
 "nbformat": 4,
 "nbformat_minor": 1
}
